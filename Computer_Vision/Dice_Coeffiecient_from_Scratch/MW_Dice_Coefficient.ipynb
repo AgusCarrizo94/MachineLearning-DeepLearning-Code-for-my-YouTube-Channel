{
 "cells": [
  {
   "cell_type": "code",
   "execution_count": null,
   "metadata": {},
   "outputs": [],
   "source": [
    "import warnings\n",
    "warnings.filterwarnings('ignore')\n",
    "import cv2\n",
    "import numpy as np\n",
    "from keras import backend as K"
   ]
  },
  {
   "cell_type": "markdown",
   "metadata": {},
   "source": [
    "### Simply put, the Dice Coefficient is 2 * the Area of Overlap divided by the total number of pixels in both images. \n",
    "\n",
    "![Imgur](https://imgur.com/EHlGKpA.png)\n",
    "\n",
    "![Imgur](https://imgur.com/2qg11kS.png)"
   ]
  },
  {
   "cell_type": "markdown",
   "metadata": {},
   "source": [
    "The Dice coefficient is very similar to the IoU. They are positively correlated, meaning if one says model A is better than model B at segmenting an image, then the other will say the same. Like the IoU, they both range from 0 to 1, with 1 signifying the greatest similarity between predicted and truth."
   ]
  },
  {
   "cell_type": "markdown",
   "metadata": {},
   "source": [
    "## For Batch Dice Coefficients"
   ]
  },
  {
   "cell_type": "code",
   "execution_count": 39,
   "metadata": {},
   "outputs": [],
   "source": [
    "def dice_coefficient(y_true, y_pred, smooth=1):\n",
    "    intersection = K.sum(y_true * y_pred, axis=[1,2,3])\n",
    "    union = K.sum(y_true, axis=[1,2,3]) + K.sum(y_pred, axis=[1,2,3])\n",
    "    return K.mean( (2 * intersection + smooth) / (union + smooth), axis=0)"
   ]
  },
  {
   "cell_type": "markdown",
   "metadata": {},
   "source": [
    "## For Image and NOT for Batch"
   ]
  },
  {
   "cell_type": "code",
   "execution_count": 40,
   "metadata": {},
   "outputs": [],
   "source": [
    "# def dice_coefficient(y_true, y_pred, smooth=1):\n",
    "#     y_true_f = K.batch_flatten(y_true)\n",
    "#     y_pred_f = K.batch_flatten(y_pred)\n",
    "\n",
    "#     intersection = K.sum(y_true_f * y_pred_f, axis=-1)\n",
    "#     sums = K.sum(y_true_f, axis=-1) + K.sum(y_pred_f, axis=-1)\n",
    "\n",
    "#     return (2 * intersection + smooth) / (sums + smooth)"
   ]
  },
  {
   "cell_type": "code",
   "execution_count": 41,
   "metadata": {},
   "outputs": [
    {
     "name": "stdout",
     "output_type": "stream",
     "text": [
      "(853, 640, 3)\n",
      "(853, 640, 3)\n",
      "(1, 853, 640, 3)\n",
      "(1, 853, 640, 3)\n"
     ]
    }
   ],
   "source": [
    "#load images\n",
    "y_pred = cv2.imread('image_1.png')/255\n",
    "y_true = cv2.imread('image_2.png')/255\n",
    "\n",
    "\n",
    "print(y_pred.shape)\n",
    "print(y_true.shape)\n",
    "\n",
    "y_pred = y_pred.reshape((-1, 853, 640, 3))\n",
    "y_true = y_true.reshape((-1, 853, 640, 3))\n",
    "\n",
    "print(y_pred.shape)\n",
    "print(y_true.shape)\n",
    "\n",
    "# print(y_pred)\n",
    "# print(y_true)\n",
    "\n",
    "\n"
   ]
  },
  {
   "cell_type": "code",
   "execution_count": 42,
   "metadata": {},
   "outputs": [
    {
     "name": "stdout",
     "output_type": "stream",
     "text": [
      "Dice Similarity: 0.48028548944379973\n"
     ]
    }
   ],
   "source": [
    "dice_score = dice_coefficient(y_true, y_pred )\n",
    "\n",
    "print (\"Dice Similarity: {}\".format(dice_score))"
   ]
  }
 ],
 "metadata": {
  "interpreter": {
   "hash": "36cf16204b8548560b1c020c4e8fb5b57f0e4c58016f52f2d4be01e192833930"
  },
  "kernelspec": {
   "display_name": "Python 3.9.12 64-bit",
   "language": "python",
   "name": "python3"
  },
  "language_info": {
   "codemirror_mode": {
    "name": "ipython",
    "version": 3
   },
   "file_extension": ".py",
   "mimetype": "text/x-python",
   "name": "python",
   "nbconvert_exporter": "python",
   "pygments_lexer": "ipython3",
   "version": "3.9.12"
  },
  "orig_nbformat": 4
 },
 "nbformat": 4,
 "nbformat_minor": 2
}
