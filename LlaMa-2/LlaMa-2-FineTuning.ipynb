{
 "cells": [
  {
   "cell_type": "markdown",
   "metadata": {},
   "source": [
    "## LlaMa-2-FineTuning"
   ]
  },
  {
   "cell_type": "code",
   "execution_count": null,
   "metadata": {},
   "outputs": [],
   "source": [
    "!pip install trl[peft]"
   ]
  },
  {
   "cell_type": "markdown",
   "metadata": {},
   "source": [
    "# From source. For running the examples in the repository\n",
    "# Clone the repository and install it with pip:\n",
    "\n",
    "git clone https://github.com/lvwerra/trl.git\n",
    "cd trl/\n",
    "pip install .\n",
    "\n",
    "\n",
    "python examples/scripts/sft_trainer.py \\\n",
    "  --model_name meta-llama/Llama-2-7b-hf \\\n",
    "  --dataset_name timdettmers/openassistant-guanaco \\\n",
    "  --load_in_4bit \\\n",
    "  --use_peft \\\n",
    "  --batch_size 4 \\\n",
    "  --gradient_accumulation_steps 2"
   ]
  }
 ],
 "metadata": {
  "language_info": {
   "name": "python"
  },
  "orig_nbformat": 4
 },
 "nbformat": 4,
 "nbformat_minor": 2
}
