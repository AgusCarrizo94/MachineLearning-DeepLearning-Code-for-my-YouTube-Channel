{
 "cells": [
  {
   "cell_type": "code",
   "execution_count": 5,
   "metadata": {},
   "outputs": [],
   "source": [
    "import numpy as np\n",
    "import matplotlib.pyplot as plt\n",
    "import random\n"
   ]
  },
  {
   "attachments": {},
   "cell_type": "markdown",
   "metadata": {},
   "source": [
    "To estimating probability mass function based on a sample,\n",
    "first I need to calculate the frequencies that each variable occurs.\n",
    "So lets define a function to return frequencies from a list dataset"
   ]
  },
  {
   "cell_type": "code",
   "execution_count": 6,
   "metadata": {
    "collapsed": false,
    "jupyter": {
     "outputs_hidden": false
    },
    "pycharm": {
     "name": "#%%\n"
    }
   },
   "outputs": [],
   "source": [
    "def get_frequencies(values):\n",
    "    frequencies = {}\n",
    "    for v in values:\n",
    "        if v in frequencies:\n",
    "            frequencies[v] += 1\n",
    "        else:\n",
    "            frequencies[v] = 1\n",
    "    return frequencies"
   ]
  },
  {
   "attachments": {},
   "cell_type": "markdown",
   "metadata": {},
   "source": [
    "In many experiments consisting of N outcomes, it is reasonable to assign equal probabilities to all N simple events. These include such obvious examples as tossing a fair coin or fair die once or twice (or any fixed number of times), or selecting one or several cards from a well-shuffled deck of 52. With p = P(Ei) for every i\n",
    "\n",
    "<img src=\"https://i.imgur.com/Wap5shu.png\" />\n",
    "\n",
    "Now the probability is just no of times each value occurs in the sample Now A probability frequency distribution need to be created,\n",
    "Its is a way to show how often an event will happen. It also shows what the probability of each event happening is. A frequency distribution table will need to be created"
   ]
  },
  {
   "cell_type": "code",
   "execution_count": 7,
   "metadata": {
    "collapsed": false,
    "jupyter": {
     "outputs_hidden": false
    },
    "pycharm": {
     "name": "#%%\n"
    }
   },
   "outputs": [],
   "source": [
    "def get_probabilities(sampledata, freqs):\n",
    "    \"\"\"\n",
    "    Calculates the probabilities of events based on their frequencies in the sample data.\n",
    "    \n",
    "    The probabilities are calculated using the frequency definition of probability.\n",
    "    If an event is observed to occur in 'h' out of 'n' repetitions of an experiment,\n",
    "    then the probability of the event is 'h / n'.\n",
    "    \n",
    "    Args:\n",
    "        sampledata (list): List of sample data containing events.\n",
    "        freqs (dict): Dictionary mapping events to their frequencies in the sample data.\n",
    "        \n",
    "    Returns:\n",
    "        list: List of probabilities of events, rounded to one decimal place.\n",
    "    \"\"\"\n",
    "    probabilities = []\n",
    "    for k, v in freqs.items():\n",
    "        probabilities.append(round(v / len(sampledata), 1))\n",
    "    return probabilities"
   ]
  },
  {
   "attachments": {},
   "cell_type": "markdown",
   "metadata": {
    "pycharm": {
     "name": "#%% md\n"
    }
   },
   "source": [
    "I could do a shuffle as below to change the probability each time by\n",
    "randomly changing the frequencies of each of the number\n",
    "random.shuffle(sample)\n",
    "print('sample', random.shuffle(sample))"
   ]
  },
  {
   "cell_type": "code",
   "execution_count": 8,
   "metadata": {
    "collapsed": false,
    "jupyter": {
     "outputs_hidden": false
    },
    "pycharm": {
     "name": "#%%\n"
    }
   },
   "outputs": [
    {
     "name": "stdout",
     "output_type": "stream",
     "text": [
      "{'H': 3, 'T': 7}\n",
      "prob [0.3, 0.7]\n"
     ]
    },
    {
     "data": {
      "image/png": "[encoded data removed]",
      "text/plain": [
       "<Figure size 432x288 with 1 Axes>"
      ]
     },
     "metadata": {
      "needs_background": "light"
     },
     "output_type": "display_data"
    }
   ],
   "source": [
    "sample = [\"H\"] * 3 + ['T'] * 7\n",
    "calculated_frequencies = get_frequencies(sample)\n",
    "print(calculated_frequencies)\n",
    "calculate_probabilities = get_probabilities(sample, calculated_frequencies)\n",
    "print(\"prob\", calculate_probabilities)\n",
    "x_axis = list(set(sample))\n",
    "\n",
    "plt.bar(x_axis, calculate_probabilities)\n",
    "plt.show()  # for plotting the graph inside PyCharm"
   ]
  }
 ],
 "metadata": {
  "kernelspec": {
   "display_name": "PyCharm (pro-machine-learning-algorithms-master)",
   "language": "python",
   "name": "pycharm-8ad3ec83"
  },
  "language_info": {
   "codemirror_mode": {
    "name": "ipython",
    "version": 3
   },
   "file_extension": ".py",
   "mimetype": "text/x-python",
   "name": "python",
   "nbconvert_exporter": "python",
   "pygments_lexer": "ipython3",
   "version": "3.8.2"
  }
 },
 "nbformat": 4,
 "nbformat_minor": 4
}
