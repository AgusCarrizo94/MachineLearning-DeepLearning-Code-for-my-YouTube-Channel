{
 "cells": [
  {
   "attachments": {},
   "cell_type": "markdown",
   "id": "8bf63c66",
   "metadata": {
    "_cell_guid": "b1076dfc-b9ad-4769-8c92-a6c4dae69d19",
    "_uuid": "8f2839f25d086af736a60e9eeb907d3b93b6e0e5",
    "papermill": {
     "duration": 0.008028,
     "end_time": "2022-07-05T14:49:40.021433",
     "exception": false,
     "start_time": "2022-07-05T14:49:40.013405",
     "status": "completed"
    },
    "tags": []
   },
   "source": [
    "# Time Series with XGBoost\n",
    "\n",
    "## [Data Source](https://github.com/rohan-paul/YT_Data_Sources/blob/main/TimeSeries/hourly_energy_consumption_pjm_est/PJME_hourly.csv)\n",
    "\n",
    "Gradient Boosting can be adapted for time-series forecasting problems with some specific considerations and modifications. Time-series data has a temporal structure, and the goal is to predict future values based on historical observations.\n",
    "\n",
    "We can restructure this time series dataset as a supervised learning problem by leveraging the value at the prior time step to forecast the value at the subsequent time-step.\n",
    "\n",
    "Feature engineering:\n",
    "\n",
    "Here, you'll create new features based on your original timestamp and energy consumption data. \n",
    "\n",
    "---------------\n",
    "\n",
    "In this video, we will try to solve a time series problem using XGBoost.\n",
    "\n",
    "The business problem here is forecasting of Electricity Demand or Energy Demand\n",
    "\n",
    "Load forecasting is a technique used by the energy-providing utility to predict the electrical power needed to meet the demand and supply equilibrium1. The technique can provide a reference for the daily operation of regional power grids and the formulation of dispatching plans. According to the results of power load forecasting, dispatchers can reasonably coordinate the distribution of the output of each power plant, maintain a balance between supply and demand, and ensure power grid stability. This determines the start-stop arrangement of the generator set, reduces the redundant generator reserve capacity value, and reduces the power generation cost.\n",
    "\n",
    "Even a small improvement in such a demand forecasting system can help save a lot of dollars in term of workforce management, inventory cost and out of stock loss.\n",
    "\n",
    "While there are many techniques to solve this particular problem like ARIMA, Prophet, and LSTMs, we can also treat such a problem as a regression problem too and use tree-based algorithms to solve it."
   ]
  },
  {
   "cell_type": "code",
   "execution_count": 1,
   "id": "b0fc904d",
   "metadata": {
    "execution": {
     "iopub.execute_input": "2022-07-05T14:49:40.037969Z",
     "iopub.status.busy": "2022-07-05T14:49:40.037212Z",
     "iopub.status.idle": "2022-07-05T14:49:41.456793Z",
     "shell.execute_reply": "2022-07-05T14:49:41.455672Z"
    },
    "papermill": {
     "duration": 1.431176,
     "end_time": "2022-07-05T14:49:41.459708",
     "exception": false,
     "start_time": "2022-07-05T14:49:40.028532",
     "status": "completed"
    },
    "tags": []
   },
   "outputs": [],
   "source": [
    "import pandas as pd\n",
    "import numpy as np\n",
    "import matplotlib.pyplot as plt\n",
    "import seaborn as sns\n",
    "\n",
    "import xgboost as xgb\n",
    "from sklearn.metrics import mean_squared_error\n",
    "\n",
    "color_pal = sns.color_palette()\n",
    "# plt.style.use('fivethirtyeight')\n",
    "\n",
    "# Override the default linewidth and markersize\n",
    "plt.rcParams['lines.linewidth'] = 1\n",
    "plt.rcParams['lines.markersize'] = 5\n",
    "\n",
    "from datetime import datetime\n",
    "import utils"
   ]
  },
  {
   "cell_type": "code",
   "execution_count": 2,
   "id": "81da238d",
   "metadata": {},
   "outputs": [],
   "source": [
    "ROOT_DIR = '../input/'\n",
    "TARGET_TEST_CUTOFF_DATE = '01-01-2015'\n"
   ]
  },
  {
   "cell_type": "code",
   "execution_count": 3,
   "id": "8d87a774",
   "metadata": {
    "execution": {
     "iopub.execute_input": "2022-07-05T14:49:41.489232Z",
     "iopub.status.busy": "2022-07-05T14:49:41.488848Z",
     "iopub.status.idle": "2022-07-05T14:49:41.727794Z",
     "shell.execute_reply": "2022-07-05T14:49:41.726477Z"
    },
    "papermill": {
     "duration": 0.249992,
     "end_time": "2022-07-05T14:49:41.730501",
     "exception": false,
     "start_time": "2022-07-05T14:49:41.480509",
     "status": "completed"
    },
    "tags": []
   },
   "outputs": [],
   "source": [
    "\n",
    "df = pd.read_csv(ROOT_DIR + 'PJME_hourly.csv')\n",
    "df = df.set_index('Datetime')\n",
    "df.index = pd.to_datetime(df.index)"
   ]
  },
  {
   "cell_type": "code",
   "execution_count": 7,
   "id": "da3f5a42",
   "metadata": {},
   "outputs": [
    {
     "data": {
      "text/html": [
       "<div>\n",
       "<style scoped>\n",
       "    .dataframe tbody tr th:only-of-type {\n",
       "        vertical-align: middle;\n",
       "    }\n",
       "\n",
       "    .dataframe tbody tr th {\n",
       "        vertical-align: top;\n",
       "    }\n",
       "\n",
       "    .dataframe thead th {\n",
       "        text-align: right;\n",
       "    }\n",
       "</style>\n",
       "<table border=\"1\" class=\"dataframe\">\n",
       "  <thead>\n",
       "    <tr style=\"text-align: right;\">\n",
       "      <th></th>\n",
       "      <th>PJME_MW</th>\n",
       "    </tr>\n",
       "    <tr>\n",
       "      <th>Datetime</th>\n",
       "      <th></th>\n",
       "    </tr>\n",
       "  </thead>\n",
       "  <tbody>\n",
       "    <tr>\n",
       "      <th>2018-01-01 20:00:00</th>\n",
       "      <td>44284.0</td>\n",
       "    </tr>\n",
       "    <tr>\n",
       "      <th>2018-01-01 21:00:00</th>\n",
       "      <td>43751.0</td>\n",
       "    </tr>\n",
       "    <tr>\n",
       "      <th>2018-01-01 22:00:00</th>\n",
       "      <td>42402.0</td>\n",
       "    </tr>\n",
       "    <tr>\n",
       "      <th>2018-01-01 23:00:00</th>\n",
       "      <td>40164.0</td>\n",
       "    </tr>\n",
       "    <tr>\n",
       "      <th>2018-01-02 00:00:00</th>\n",
       "      <td>38608.0</td>\n",
       "    </tr>\n",
       "  </tbody>\n",
       "</table>\n",
       "</div>"
      ],
      "text/plain": [
       "                     PJME_MW\n",
       "Datetime                    \n",
       "2018-01-01 20:00:00  44284.0\n",
       "2018-01-01 21:00:00  43751.0\n",
       "2018-01-01 22:00:00  42402.0\n",
       "2018-01-01 23:00:00  40164.0\n",
       "2018-01-02 00:00:00  38608.0"
      ]
     },
     "execution_count": 7,
     "metadata": {},
     "output_type": "execute_result"
    }
   ],
   "source": [
    "df.tail()"
   ]
  },
  {
   "attachments": {},
   "cell_type": "markdown",
   "id": "06a378ae",
   "metadata": {},
   "source": [
    "## seasonal_decompose from statsmodel\n",
    "\n",
    "seasonal_decompose is a function that decomposes a time series into three main components: trend, seasonal, and residual (or irregular). The decomposition is based on the assumption that the observed time series is a product (multiplicative model) or a sum (additive model) of these three components. This function is particularly useful for understanding the underlying structure of a time series and can help you identify patterns, trends, and seasonality in the data.\n",
    "\n",
    "-----------\n",
    "\n",
    "* model='multiplicative': Specifies that the time series decomposition should be performed using a multiplicative model, which assumes that the observed time series is a product of its components (Y = T * S * R).\n",
    "\n",
    "* extrapolate_trend='freq': Specifies that the trend component should be extrapolated using the specified frequency in the case of missing or incomplete data.\n",
    "\n",
    "* period=ANNUAL_PERIOD: Specifies the frequency of the seasonality component in the time series (in this case, the number of hours in a year)."
   ]
  },
  {
   "cell_type": "code",
   "execution_count": 5,
   "id": "9d8aeaa5",
   "metadata": {},
   "outputs": [
    {
     "data": {
      "image/png": "[encoded data removed]",
      "text/plain": [
       "<Figure size 640x480 with 4 Axes>"
      ]
     },
     "metadata": {},
     "output_type": "display_data"
    }
   ],
   "source": [
    "from statsmodels.tsa.seasonal import seasonal_decompose\n",
    "\n",
    "ANNUAL_PERIOD = 365*24\n",
    "mult_decomp = seasonal_decompose(df['PJME_MW'], model='multiplicative', extrapolate_trend='freq', period=ANNUAL_PERIOD)\n",
    "mult_decomp.plot()\n",
    "plt.show()"
   ]
  },
  {
   "cell_type": "code",
   "execution_count": null,
   "id": "067b7567",
   "metadata": {
    "execution": {
     "iopub.execute_input": "2022-07-05T14:49:41.746405Z",
     "iopub.status.busy": "2022-07-05T14:49:41.745996Z",
     "iopub.status.idle": "2022-07-05T14:49:43.128301Z",
     "shell.execute_reply": "2022-07-05T14:49:43.127072Z"
    },
    "papermill": {
     "duration": 1.395894,
     "end_time": "2022-07-05T14:49:43.133488",
     "exception": false,
     "start_time": "2022-07-05T14:49:41.737594",
     "status": "completed"
    },
    "tags": []
   },
   "outputs": [],
   "source": [
    "df.plot(style='.',\n",
    "        figsize=(15, 5),\n",
    "        color=color_pal[0],\n",
    "        title='PJME Energy Use in MW')\n",
    "plt.show()"
   ]
  },
  {
   "cell_type": "code",
   "execution_count": null,
   "id": "b07a7781",
   "metadata": {},
   "outputs": [],
   "source": [
    "train = df.loc[df.index < TARGET_TEST_CUTOFF_DATE]\n",
    "test = df.loc[df.index >= TARGET_TEST_CUTOFF_DATE]"
   ]
  },
  {
   "attachments": {},
   "cell_type": "markdown",
   "id": "4619779f",
   "metadata": {
    "papermill": {
     "duration": 0.008015,
     "end_time": "2022-07-05T14:49:43.150149",
     "exception": false,
     "start_time": "2022-07-05T14:49:43.142134",
     "status": "completed"
    },
    "tags": []
   },
   "source": [
    "## Plot the Train / Test Split data"
   ]
  },
  {
   "cell_type": "code",
   "execution_count": null,
   "id": "44bd6c00",
   "metadata": {},
   "outputs": [],
   "source": [
    "utils.plot_train_test_split(df, TARGET_TEST_CUTOFF_DATE)"
   ]
  },
  {
   "attachments": {},
   "cell_type": "markdown",
   "id": "fb2fb1ea",
   "metadata": {},
   "source": [
    "### Just want see how a single weekly data looks like"
   ]
  },
  {
   "cell_type": "code",
   "execution_count": null,
   "id": "102b4206",
   "metadata": {},
   "outputs": [],
   "source": [
    "utils.plot_week_of_data(df, '01-01-2010', '01-08-2010')\n"
   ]
  },
  {
   "attachments": {},
   "cell_type": "markdown",
   "id": "4e4a15e5",
   "metadata": {
    "papermill": {
     "duration": 0.009814,
     "end_time": "2022-07-05T14:49:45.407566",
     "exception": false,
     "start_time": "2022-07-05T14:49:45.397752",
     "status": "completed"
    },
    "tags": []
   },
   "source": [
    "# From DataTime column of the original DF create features for TIme Series"
   ]
  },
  {
   "cell_type": "code",
   "execution_count": null,
   "id": "b6089ce9",
   "metadata": {},
   "outputs": [],
   "source": [
    "df = utils.create_time_series_features(df)\n"
   ]
  },
  {
   "attachments": {},
   "cell_type": "markdown",
   "id": "ca580ee4",
   "metadata": {
    "execution": {
     "iopub.execute_input": "2022-07-02T18:55:43.448999Z",
     "iopub.status.busy": "2022-07-02T18:55:43.448667Z",
     "iopub.status.idle": "2022-07-02T18:55:43.536534Z",
     "shell.execute_reply": "2022-07-02T18:55:43.535473Z",
     "shell.execute_reply.started": "2022-07-02T18:55:43.448971Z"
    },
    "papermill": {
     "duration": 0.010383,
     "end_time": "2022-07-05T14:49:45.625175",
     "exception": false,
     "start_time": "2022-07-05T14:49:45.614792",
     "status": "completed"
    },
    "tags": []
   },
   "source": [
    "# Visualize our Feature / Target Relationship"
   ]
  },
  {
   "cell_type": "code",
   "execution_count": null,
   "id": "e1c12ef0",
   "metadata": {},
   "outputs": [],
   "source": [
    "df.head()"
   ]
  },
  {
   "cell_type": "code",
   "execution_count": null,
   "id": "fd610c36",
   "metadata": {},
   "outputs": [],
   "source": [
    "fig, axes = plt.subplots(2, 2, figsize=(18,18))\n",
    "\n",
    "# Day of Week\n",
    "dow_labels = ['Mon', 'Tues', 'Wed', 'Thurs', 'Fri', 'Sat', 'Sun']\n",
    "g = sns.boxplot(x=df.dayofweek, y=df.PJME_MW, ax=axes[0][0])\n",
    "g.set_xticklabels(dow_labels)\n",
    "g.set_ylabel('')\n",
    "\n",
    "# Month of Year\n",
    "g = sns.boxplot(x=df.month, y=df.PJME_MW, ax=axes[0][1])\n",
    "g.set_ylabel('')\n",
    "\n",
    "# Hour of Day\n",
    "g = sns.boxplot(x=df.hour, y=df.PJME_MW, ax=axes[1][0])\n",
    "g.set_ylabel('')\n",
    "\n",
    "# Year\n",
    "g = sns.boxplot(x=df.year, y=df.PJME_MW, ax=axes[1][1])\n",
    "g.set_ylabel('')\n",
    "fig.text(0.08, 0.5, 'Energy Consumption (MW)', va='center', rotation='vertical')\n",
    "plt.show()"
   ]
  },
  {
   "attachments": {},
   "cell_type": "markdown",
   "id": "1ef6485e",
   "metadata": {},
   "source": [
    "# Seasonal Plot"
   ]
  },
  {
   "cell_type": "code",
   "execution_count": null,
   "id": "e69e4b4b",
   "metadata": {},
   "outputs": [],
   "source": [
    "df_copy = df.copy()\n",
    "\n",
    "year_group = df_copy.groupby(['year', 'month']).mean().reset_index()\n",
    "years = df_copy['year'].unique()\n",
    "NUM_COLORS = len(years)\n",
    "\n",
    "cm = plt.get_cmap('gist_rainbow')\n",
    "fig = plt.figure()\n",
    "ax = fig.add_subplot(111)\n",
    "ax.set_prop_cycle(color=[cm(1.*i/NUM_COLORS) for i in range(NUM_COLORS)])\n",
    "\n",
    "for i, y in enumerate(years):\n",
    "    df_copy = year_group[year_group['year'] == y]\n",
    "    #rolling_mean = df_copy.PJME_MW.rolling(window=7*24).mean()\n",
    "    plt.plot(df_copy['month'], df_copy['PJME_MW'], linewidth=1, markersize=5 )\n",
    "plt.title('Mean Monthly Energy Consumption by year')\n",
    "plt.xlabel('month')\n",
    "plt.ylabel('Mean Energy Consumption (MW)')\n",
    "plt.legend(df_copy.year.unique())\n",
    "plt.show()"
   ]
  },
  {
   "cell_type": "code",
   "execution_count": null,
   "id": "2f16f127",
   "metadata": {},
   "outputs": [],
   "source": [
    "# !pip install statsmodels"
   ]
  },
  {
   "attachments": {},
   "cell_type": "markdown",
   "id": "1cbb4e32",
   "metadata": {
    "papermill": {
     "duration": 0.010945,
     "end_time": "2022-07-05T14:49:46.636956",
     "exception": false,
     "start_time": "2022-07-05T14:49:46.626011",
     "status": "completed"
    },
    "tags": []
   },
   "source": [
    "# Create our Model"
   ]
  },
  {
   "cell_type": "code",
   "execution_count": null,
   "id": "62e9bdcc",
   "metadata": {},
   "outputs": [],
   "source": [
    "train.head()"
   ]
  },
  {
   "cell_type": "code",
   "execution_count": null,
   "id": "cf56986f",
   "metadata": {},
   "outputs": [],
   "source": [
    "train = utils.create_time_series_features(train)\n",
    "test = utils.create_time_series_features(test)\n",
    "train.head(2)"
   ]
  },
  {
   "attachments": {},
   "cell_type": "markdown",
   "id": "1282ef4d",
   "metadata": {},
   "source": [
    "## In above the `weekofyear` is of UInt32 dtype - So getting below error if I run XGBoost directly with it.\n",
    "\n",
    "```\n",
    "ValueError: DataFrame.dtypes for data must be int, float, bool or category. Invalid columns:weekofyear: UInt32\n",
    "\n",
    "```\n",
    "\n",
    "The error you're encountering is because XGBoost does not support the `UInt32` dtype directly, and you must convert it to `int32` or another supported dtype before using it with XGBoost."
   ]
  },
  {
   "cell_type": "code",
   "execution_count": null,
   "id": "5ec11fe5",
   "metadata": {},
   "outputs": [],
   "source": [
    "train['weekofyear'] = train['weekofyear'].astype('int32')\n",
    "test['weekofyear'] = test['weekofyear'].astype('int32')"
   ]
  },
  {
   "cell_type": "code",
   "execution_count": null,
   "id": "652b84a8",
   "metadata": {
    "execution": {
     "iopub.execute_input": "2022-07-05T14:49:46.661356Z",
     "iopub.status.busy": "2022-07-05T14:49:46.660632Z",
     "iopub.status.idle": "2022-07-05T14:49:46.846798Z",
     "shell.execute_reply": "2022-07-05T14:49:46.845870Z"
    },
    "papermill": {
     "duration": 0.20116,
     "end_time": "2022-07-05T14:49:46.849298",
     "exception": false,
     "start_time": "2022-07-05T14:49:46.648138",
     "status": "completed"
    },
    "tags": []
   },
   "outputs": [],
   "source": [
    "time_series_features = ['dayofyear', 'hour', 'dayofweek', 'weekofyear', 'quarter', 'month', 'year']\n",
    "time_series_target = 'PJME_MW'\n",
    "\n",
    "X_train = train[time_series_features]\n",
    "y_train = train[time_series_target]\n",
    "\n",
    "X_test = test[time_series_features]\n",
    "y_test = test[time_series_target]"
   ]
  },
  {
   "cell_type": "code",
   "execution_count": null,
   "id": "b90de64b",
   "metadata": {},
   "outputs": [],
   "source": [
    "X_train.head(2)"
   ]
  },
  {
   "cell_type": "code",
   "execution_count": null,
   "id": "7f92349e",
   "metadata": {},
   "outputs": [],
   "source": [
    "y_test.head(2)"
   ]
  },
  {
   "cell_type": "code",
   "execution_count": null,
   "id": "6529d25e",
   "metadata": {},
   "outputs": [],
   "source": [
    "model = utils.train_xgb_regressor(X_train, y_train, X_test, y_test, use_gpu=True)"
   ]
  },
  {
   "attachments": {},
   "cell_type": "markdown",
   "id": "57babaad",
   "metadata": {
    "papermill": {
     "duration": 0.012097,
     "end_time": "2022-07-05T14:50:13.636564",
     "exception": false,
     "start_time": "2022-07-05T14:50:13.624467",
     "status": "completed"
    },
    "tags": []
   },
   "source": [
    "# Feature Importance"
   ]
  },
  {
   "cell_type": "code",
   "execution_count": null,
   "id": "a73114a5",
   "metadata": {},
   "outputs": [],
   "source": [
    "utils.plot_feature_importance(model)\n"
   ]
  },
  {
   "attachments": {},
   "cell_type": "markdown",
   "id": "9743e3c7",
   "metadata": {
    "papermill": {
     "duration": 0.012188,
     "end_time": "2022-07-05T14:50:13.901939",
     "exception": false,
     "start_time": "2022-07-05T14:50:13.889751",
     "status": "completed"
    },
    "tags": []
   },
   "source": [
    "# Inference on Test\n",
    "\n",
    "Here I just adding the prediction column to the existing dataframe"
   ]
  },
  {
   "cell_type": "code",
   "execution_count": null,
   "id": "64d15a4a",
   "metadata": {
    "execution": {
     "iopub.execute_input": "2022-07-05T14:50:13.929567Z",
     "iopub.status.busy": "2022-07-05T14:50:13.928878Z",
     "iopub.status.idle": "2022-07-05T14:50:17.796824Z",
     "shell.execute_reply": "2022-07-05T14:50:17.795686Z"
    },
    "papermill": {
     "duration": 3.885446,
     "end_time": "2022-07-05T14:50:17.799940",
     "exception": false,
     "start_time": "2022-07-05T14:50:13.914494",
     "status": "completed"
    },
    "tags": []
   },
   "outputs": [],
   "source": [
    "test['prediction'] = model.predict(X_test)\n",
    "\n",
    "df = df.merge(test[['prediction']], how='left', left_index=True, right_index=True)\n",
    "\n",
    "df.tail(2)"
   ]
  },
  {
   "cell_type": "code",
   "execution_count": null,
   "id": "0f1fd82d",
   "metadata": {},
   "outputs": [],
   "source": [
    "\n",
    "ax = df[['PJME_MW']].plot(figsize=(15, 5))\n",
    "\n",
    "df['prediction'].plot(ax=ax, style='.')\n",
    "plt.legend(['Ground Truth Data', 'Predictions'])\n",
    "ax.set_title('Actual Past Data and Prediction')\n",
    "plt.show()"
   ]
  },
  {
   "cell_type": "code",
   "execution_count": null,
   "id": "72a926c3",
   "metadata": {
    "execution": {
     "iopub.execute_input": "2022-07-05T14:50:17.829150Z",
     "iopub.status.busy": "2022-07-05T14:50:17.828159Z",
     "iopub.status.idle": "2022-07-05T14:50:18.090591Z",
     "shell.execute_reply": "2022-07-05T14:50:18.089392Z"
    },
    "papermill": {
     "duration": 0.279996,
     "end_time": "2022-07-05T14:50:18.093473",
     "exception": false,
     "start_time": "2022-07-05T14:50:17.813477",
     "status": "completed"
    },
    "tags": []
   },
   "outputs": [],
   "source": [
    "# select data within a specific date range\n",
    "data = df.loc[(df.index > '04-01-2018') & (df.index < '04-08-2018')]\n",
    "\n",
    "# plot the actual and predicted data\n",
    "ax = data['PJME_MW'].plot(figsize=(15, 5), title='Single Week of Data starting 04-01-2018', linewidth=2, markersize=5)\n",
    "\n",
    "data['prediction'].plot(style='-', linewidth=2, markersize=5)\n",
    "\n",
    "plt.legend(['Actual Data', 'Predicted Data'])\n",
    "plt.show()\n"
   ]
  },
  {
   "cell_type": "code",
   "execution_count": null,
   "id": "5be23b66",
   "metadata": {},
   "outputs": [],
   "source": [
    "# select data within a specific date range\n",
    "data = df.loc[(df.index > '07-01-2018') & (df.index < '07-31-2018')]\n",
    "\n",
    "# plot the actual portion\n",
    "ax = data['PJME_MW'].plot(figsize=(15, 5), title='Actual vs Forecast for July-2018', linewidth=2, markersize=5)\n",
    "\n",
    "# plot the predicted portion\n",
    "data['prediction'].plot(style='-', linewidth=2, markersize=5)\n",
    "\n",
    "plt.legend(['Actual Data', 'Predicted Data'])\n",
    "plt.show()"
   ]
  },
  {
   "attachments": {},
   "cell_type": "markdown",
   "id": "09568c1b",
   "metadata": {
    "papermill": {
     "duration": 0.014338,
     "end_time": "2022-07-05T14:50:18.122461",
     "exception": false,
     "start_time": "2022-07-05T14:50:18.108123",
     "status": "completed"
    },
    "tags": []
   },
   "source": [
    "# RMSE"
   ]
  },
  {
   "cell_type": "code",
   "execution_count": null,
   "id": "2ca5128a",
   "metadata": {
    "execution": {
     "iopub.execute_input": "2022-07-05T14:50:18.154328Z",
     "iopub.status.busy": "2022-07-05T14:50:18.153402Z",
     "iopub.status.idle": "2022-07-05T14:50:18.161870Z",
     "shell.execute_reply": "2022-07-05T14:50:18.160512Z"
    },
    "papermill": {
     "duration": 0.026642,
     "end_time": "2022-07-05T14:50:18.164035",
     "exception": false,
     "start_time": "2022-07-05T14:50:18.137393",
     "status": "completed"
    },
    "tags": []
   },
   "outputs": [],
   "source": [
    "score = np.sqrt(mean_squared_error(test['PJME_MW'], test['prediction']))\n",
    "print(f'RMSE Score on Test set: {score:0.2f}')"
   ]
  },
  {
   "attachments": {},
   "cell_type": "markdown",
   "id": "5d3c1169",
   "metadata": {
    "papermill": {
     "duration": 0.014983,
     "end_time": "2022-07-05T14:50:18.194478",
     "exception": false,
     "start_time": "2022-07-05T14:50:18.179495",
     "status": "completed"
    },
    "tags": []
   },
   "source": [
    "## Sort Predictions by Error values\n"
   ]
  },
  {
   "cell_type": "code",
   "execution_count": null,
   "id": "929b6fc9",
   "metadata": {
    "execution": {
     "iopub.execute_input": "2022-07-05T14:50:18.227021Z",
     "iopub.status.busy": "2022-07-05T14:50:18.226596Z",
     "iopub.status.idle": "2022-07-05T14:50:18.269108Z",
     "shell.execute_reply": "2022-07-05T14:50:18.268066Z"
    },
    "papermill": {
     "duration": 0.06133,
     "end_time": "2022-07-05T14:50:18.271408",
     "exception": false,
     "start_time": "2022-07-05T14:50:18.210078",
     "status": "completed"
    },
    "tags": []
   },
   "outputs": [],
   "source": [
    "test['error'] = np.abs(test[time_series_target] - test['prediction'])\n",
    "\n",
    "test['date'] = test.index.date\n",
    "\n",
    "test.groupby(['date'])['error'].mean().sort_values(ascending=False).head(10)"
   ]
  }
 ],
 "metadata": {
  "kernelspec": {
   "display_name": "Python 3",
   "language": "python",
   "name": "python3"
  },
  "language_info": {
   "codemirror_mode": {
    "name": "ipython",
    "version": 3
   },
   "file_extension": ".py",
   "mimetype": "text/x-python",
   "name": "python",
   "nbconvert_exporter": "python",
   "pygments_lexer": "ipython3",
   "version": "3.10.9"
  },
  "papermill": {
   "default_parameters": {},
   "duration": 48.956079,
   "end_time": "2022-07-05T14:50:19.170306",
   "environment_variables": {},
   "exception": null,
   "input_path": "__notebook__.ipynb",
   "output_path": "__notebook__.ipynb",
   "parameters": {},
   "start_time": "2022-07-05T14:49:30.214227",
   "version": "2.3.4"
  }
 },
 "nbformat": 4,
 "nbformat_minor": 5
}
